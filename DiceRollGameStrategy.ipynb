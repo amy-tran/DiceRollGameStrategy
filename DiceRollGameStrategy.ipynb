{
  "nbformat": 4,
  "nbformat_minor": 0,
  "metadata": {
    "colab": {
      "provenance": []
    },
    "kernelspec": {
      "name": "python3",
      "display_name": "Python 3"
    },
    "language_info": {
      "name": "python"
    }
  },
  "cells": [
    {
      "cell_type": "markdown",
      "source": [
        "# Game Description\n",
        "\n",
        "Consider the following game: you and an opponent each have two fair, 6-sided dice. Each player secretly rolls and looks at their dice. Players alternate proposing statements about the four collective dice, such as \"two 5s\" or \"three 2s.\"\n",
        "\n",
        "## Game Rules\n",
        "\n",
        "1. **Turns**: On their turn, a player can either:\n",
        "    - \"Reject\" the other person's proposal.\n",
        "    - Give a proposal with \"higher\" stakes, by either increasing the number referred to or the total dice in the proposal (e.g., \"two 5s\" < \"two 6s\" < \"three 1s\").\n",
        "\n",
        "2. **Rejection**: Once a player \"rejects,\" all dice are revealed:\n",
        "    - If the proposed dice do not exist among the four total dice, the \"rejecter\" wins.\n",
        "    - If the proposed dice do exist, the \"rejecter\" loses.\n",
        "\n",
        "## Your Task\n",
        "\n",
        "You are going first. Answer the following:\n",
        "\n",
        "a) What is your strategy if you roll two 1s?\n",
        "\n",
        "b) Propose a general strategy that maximizes your probability of winning.\n",
        ""
      ],
      "metadata": {
        "id": "UDKhR-h5BxeZ"
      }
    },
    {
      "cell_type": "code",
      "source": [
        "import random\n",
        "import numpy as np\n",
        "from collections import Counter"
      ],
      "metadata": {
        "id": "rLClYem9CAVv"
      },
      "execution_count": 10,
      "outputs": []
    },
    {
      "cell_type": "code",
      "source": [
        "def roll_opponent_dice():\n",
        "    return [random.randint(1, 6) for _ in range(2)]\n",
        "\n",
        "def calculate_probabilities(opponent_dice):\n",
        "    counts = Counter(opponent_dice)\n",
        "\n",
        "    # Probabilities for 1s given you have two 1s\n",
        "    prob_one_1 = 2 * (1/6) * (5/6)\n",
        "    prob_two_1s = (1/6) * (1/6)\n",
        "\n",
        "    # Probabilities for other numbers\n",
        "    prob_two_of_other = {i: (1/6) * (1/6) for i in range(2, 7)}\n",
        "\n",
        "    return prob_one_1, prob_two_1s, prob_two_of_other\n",
        "\n",
        "def decide_reject(opponent_claim, prob_one_1, prob_two_1s, prob_two_of_other):\n",
        "    number, count = opponent_claim\n",
        "    if number == 1:\n",
        "        if count == 3:\n",
        "            return prob_one_1 < 0.5  # Adjust threshold based on strategy\n",
        "        elif count == 4:\n",
        "            return not prob_two_1s\n",
        "    else:\n",
        "        if count == 3 or count == 4:\n",
        "            return True\n",
        "        elif count == 2:\n",
        "            return prob_two_of_other[number] < 0.5  # Adjust threshold based on strategy\n",
        "    return False\n",
        "\n",
        "def simulate_game():\n",
        "    player_dice = [1, 1]\n",
        "    opponent_dice = roll_opponent_dice()\n",
        "    print(f\"Opponent's dice: {opponent_dice}\")\n",
        "\n",
        "    prob_one_1, prob_two_1s, prob_two_of_other = calculate_probabilities(opponent_dice)\n",
        "    print(f\"Theoretical probability of opponent rolling one 1: {prob_one_1}\")\n",
        "    print(f\"Theoretical probability of opponent rolling two 1s: {prob_two_1s}\")\n",
        "    print(f\"Probability of two of a different number: {prob_two_of_other}\")\n",
        "\n",
        "    # Example opponent claims\n",
        "    opponent_claims = [\n",
        "        (1, 3),\n",
        "        (1, 4),\n",
        "        (2, 2),\n",
        "        (2, 3),\n",
        "        (3, 2),\n",
        "        (3, 3),\n",
        "    ]\n",
        "\n",
        "    results = []\n",
        "    for claim in opponent_claims:\n",
        "        reject = decide_reject(claim, prob_one_1, prob_two_1s, prob_two_of_other)\n",
        "        results.append((claim, reject))\n",
        "\n",
        "    return results\n",
        "\n",
        "results = simulate_game()\n",
        "for claim, reject in results:\n",
        "    action = \"Reject\" if reject else \"Accept\"\n",
        "    print(f\"Claim: {claim}, Action: {action}\")\n"
      ],
      "metadata": {
        "colab": {
          "base_uri": "https://localhost:8080/"
        },
        "id": "mwgrF4TRD2UF",
        "outputId": "ebda652b-b24b-4f2f-8a6f-e475053bab3b"
      },
      "execution_count": 21,
      "outputs": [
        {
          "output_type": "stream",
          "name": "stdout",
          "text": [
            "Opponent's dice: [5, 1]\n",
            "Theoretical probability of opponent rolling one 1: 0.2777777777777778\n",
            "Theoretical probability of opponent rolling two 1s: 0.027777777777777776\n",
            "Probability of two of a different number: {2: 0.027777777777777776, 3: 0.027777777777777776, 4: 0.027777777777777776, 5: 0.027777777777777776, 6: 0.027777777777777776}\n",
            "Claim: (1, 3), Action: Reject\n",
            "Claim: (1, 4), Action: Accept\n",
            "Claim: (2, 2), Action: Reject\n",
            "Claim: (2, 3), Action: Reject\n",
            "Claim: (3, 2), Action: Reject\n",
            "Claim: (3, 3), Action: Reject\n"
          ]
        }
      ]
    }
  ]
}